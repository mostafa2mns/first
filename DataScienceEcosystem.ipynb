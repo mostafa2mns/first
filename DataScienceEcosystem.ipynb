{
 "cells": [
  {
   "cell_type": "markdown",
   "id": "734e17de-112c-4f03-890f-e0d6dff2f641",
   "metadata": {},
   "source": [
    "# Data Science Tools and Ecosystem"
   ]
  },
  {
   "cell_type": "markdown",
   "id": "5e04ecca-a8b4-4371-b911-5d7d4a9edbc5",
   "metadata": {},
   "source": [
    " ### introduction\n",
    "  In this notebook, Data Science Tools and Ecosystem are summarized."
   ]
  },
  {
   "cell_type": "markdown",
   "id": "b386c64e-7d77-4879-9bab-24013cd28af7",
   "metadata": {},
   "source": [
    "**Objectives:**\n",
    "- Hadoop\n",
    "- JavaScript\n",
    "- Sql\n"
   ]
  },
  {
   "cell_type": "markdown",
   "id": "736ff024-74cd-4d82-b3bd-8acc733b575e",
   "metadata": {},
   "source": [
    "Some of the popular languages that Data Scientists use are:\n",
    "1. PYTHON\n",
    "2. R\n",
    "3. JULIA"
   ]
  },
  {
   "cell_type": "markdown",
   "id": "af35df87-85e3-4736-8dc4-1a665a556bbe",
   "metadata": {},
   "source": [
    "Some of the commonly used libraries used by Data Scientists include:\n",
    "1. PANDAS\n",
    "2. NUMPY\n",
    "3. SCIBORN"
   ]
  },
  {
   "cell_type": "markdown",
   "id": "57fc0ced-7547-4be7-919f-043eea6da54d",
   "metadata": {},
   "source": [
    "| **Data Science Tools** |\n",
    "|------------------|\n",
    "|Jupyter Notebook             |\n",
    "| RStudio       |\n",
    "| Visual Studio Code (VS Code)|\n",
    "\n"
   ]
  },
  {
   "cell_type": "markdown",
   "id": "abbb5099-6dd2-4fb8-8ef7-4b023d01297c",
   "metadata": {},
   "source": [
    "### Below are a few examples of evaluating arithmetic expressions in Python"
   ]
  },
  {
   "cell_type": "code",
   "execution_count": 8,
   "id": "2918f5d7-3b88-4b6b-a293-9b5cd84e77d9",
   "metadata": {},
   "outputs": [
    {
     "data": {
      "text/plain": [
       "17"
      ]
     },
     "execution_count": 8,
     "metadata": {},
     "output_type": "execute_result"
    }
   ],
   "source": [
    "# This a simple arithmetic expression to mutiply then add integers\n",
    "3*4+5"
   ]
  },
  {
   "cell_type": "code",
   "execution_count": 9,
   "id": "c2170960-00df-45a2-8cea-a83c6fb31559",
   "metadata": {},
   "outputs": [
    {
     "data": {
      "text/plain": [
       "3.3333333333333335"
      ]
     },
     "execution_count": 9,
     "metadata": {},
     "output_type": "execute_result"
    }
   ],
   "source": [
    "# This will convert 200 minutes to hours by diving by 60\n",
    "200 / 60"
   ]
  },
  {
   "cell_type": "markdown",
   "id": "bb4bffca-15b6-41e5-ac21-632933cc194f",
   "metadata": {},
   "source": [
    "## Author\n",
    "Mostafa Naguib"
   ]
  },
  {
   "cell_type": "code",
   "execution_count": null,
   "id": "aac0df01-7c19-419f-9e52-18b6511e0c55",
   "metadata": {},
   "outputs": [],
   "source": []
  }
 ],
 "metadata": {
  "kernelspec": {
   "display_name": "Python [conda env:base] *",
   "language": "python",
   "name": "conda-base-py"
  },
  "language_info": {
   "codemirror_mode": {
    "name": "ipython",
    "version": 3
   },
   "file_extension": ".py",
   "mimetype": "text/x-python",
   "name": "python",
   "nbconvert_exporter": "python",
   "pygments_lexer": "ipython3",
   "version": "3.11.5"
  }
 },
 "nbformat": 4,
 "nbformat_minor": 5
}
